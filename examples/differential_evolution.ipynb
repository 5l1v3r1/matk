{
 "metadata": {
  "name": "",
  "signature": "sha256:a80ed11160f947d504a2b49040be217ecfcec325751fb321eae73de3c8326b20"
 },
 "nbformat": 3,
 "nbformat_minor": 0,
 "worksheets": [
  {
   "cells": [
    {
     "cell_type": "code",
     "collapsed": false,
     "input": [
      "from matk import matk\n",
      "from scipy.optimize import rosen,differential_evolution\n",
      "import numpy as np\n",
      "\n",
      "def myrosen(pars):\n",
      "        return rosen(pars.values())\n",
      "\n",
      "p = matk(model=myrosen)\n",
      "\n",
      "p.add_par('p1',min=0,max=2)\n",
      "p.add_par('p2',min=0,max=2)\n",
      "p.add_par('p3',min=0,max=2)\n",
      "p.add_par('p4',min=0,max=2)\n",
      "p.add_obs('o1',value=0)\n",
      "\n",
      "result = p.differential_evolution()\n",
      "\n",
      "print \"Rosenbrock problem:\"\n",
      "print \"Parameters should be all ones: \", result.x\n",
      "print \"Objective function: \", result.fun"
     ],
     "language": "python",
     "metadata": {},
     "outputs": [
      {
       "output_type": "stream",
       "stream": "stdout",
       "text": [
        "Rosenbrock problem:\n",
        "Parameters should be all ones:  [ 0.99999838  0.99999964  0.99999913  0.99999682]\n",
        "Objective function:  5.90067259462e-23\n"
       ]
      }
     ],
     "prompt_number": 5
    },
    {
     "cell_type": "code",
     "collapsed": false,
     "input": [
      "def ackley(pars):\n",
      "    x = pars.values()\n",
      "    arg1 = -0.2 * np.sqrt(0.5 * (x[0] ** 2 + x[1] ** 2))\n",
      "    arg2 = 0.5 * (np.cos(2. * np.pi * x[0]) + np.cos(2. * np.pi * x[1]))\n",
      "    return -20. * np.exp(arg1) - np.exp(arg2) + 20. + np.e\n",
      "\n",
      "p2 = matk(model=ackley)\n",
      "\n",
      "p2.add_par('p1',min=-5,max=5)\n",
      "p2.add_par('p2',min=-5,max=5)\n",
      "p2.add_obs('o1',value=0)\n",
      "result = p2.differential_evolution()\n",
      "\n",
      "print \"Ackley problem:\"\n",
      "print \"Parameters should be zero: \", result.x\n",
      "print \"Objective function: \", result.fun"
     ],
     "language": "python",
     "metadata": {},
     "outputs": [
      {
       "output_type": "stream",
       "stream": "stdout",
       "text": [
        "Ackley problem:\n",
        "Parameters should be zero:  [ -2.73148171e-11  -7.32991445e-11]\n",
        "Objective function:  4.89512267095e-20\n"
       ]
      }
     ],
     "prompt_number": 4
    }
   ],
   "metadata": {}
  }
 ]
}