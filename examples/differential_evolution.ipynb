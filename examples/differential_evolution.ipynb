{
 "cells": [
  {
   "cell_type": "code",
   "execution_count": 1,
   "metadata": {
    "collapsed": false
   },
   "outputs": [
    {
     "name": "stdout",
     "output_type": "stream",
     "text": [
      "Rosenbrock problem:\n",
      "Parameters should be all ones:  [ 0.99999934  1.0000001   0.99999966  0.99999853]\n",
      "Objective function:  1.00375896419e-21\n"
     ]
    }
   ],
   "source": [
    "from matk import matk\n",
    "from scipy.optimize import rosen\n",
    "import numpy as np\n",
    "\n",
    "def myrosen(pars):\n",
    "        return rosen(pars.values())\n",
    "\n",
    "p = matk(model=myrosen)\n",
    "\n",
    "p.add_par('p1',min=0,max=2)\n",
    "p.add_par('p2',min=0,max=2)\n",
    "p.add_par('p3',min=0,max=2)\n",
    "p.add_par('p4',min=0,max=2)\n",
    "p.add_obs('o1',value=0)\n",
    "\n",
    "result = p.differential_evolution()\n",
    "\n",
    "print \"Rosenbrock problem:\"\n",
    "print \"Parameters should be all ones: \", result.x\n",
    "print \"Objective function: \", result.fun"
   ]
  },
  {
   "cell_type": "code",
   "execution_count": 3,
   "metadata": {
    "collapsed": false
   },
   "outputs": [
    {
     "name": "stdout",
     "output_type": "stream",
     "text": [
      "Ackley problem:\n",
      "Parameters should be zero:  [ -1.11798348e-10  -4.46476189e-12]\n",
      "Objective function:  1.00150425637e-19\n"
     ]
    }
   ],
   "source": [
    "def ackley(pars):\n",
    "    x = pars.values()\n",
    "    arg1 = -0.2 * np.sqrt(0.5 * (x[0] ** 2 + x[1] ** 2))\n",
    "    arg2 = 0.5 * (np.cos(2. * np.pi * x[0]) + np.cos(2. * np.pi * x[1]))\n",
    "    return -20. * np.exp(arg1) - np.exp(arg2) + 20. + np.e\n",
    "\n",
    "p2 = matk(model=ackley)\n",
    "\n",
    "p2.add_par('p1',min=-5,max=5)\n",
    "p2.add_par('p2',min=-5,max=5)\n",
    "p2.add_obs('o1',value=0)\n",
    "result = p2.differential_evolution()\n",
    "\n",
    "print \"Ackley problem:\"\n",
    "print \"Parameters should be zero: \", result.x\n",
    "print \"Objective function: \", result.fun"
   ]
  },
  {
   "cell_type": "code",
   "execution_count": null,
   "metadata": {
    "collapsed": true
   },
   "outputs": [],
   "source": []
  }
 ],
 "metadata": {
  "kernelspec": {
   "display_name": "Python 2",
   "language": "python",
   "name": "python2"
  },
  "language_info": {
   "codemirror_mode": {
    "name": "ipython",
    "version": 2
   },
   "file_extension": ".py",
   "mimetype": "text/x-python",
   "name": "python",
   "nbconvert_exporter": "python",
   "pygments_lexer": "ipython2",
   "version": "2.7.12"
  }
 },
 "nbformat": 4,
 "nbformat_minor": 0
}
