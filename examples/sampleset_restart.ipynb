{
 "cells": [
  {
   "cell_type": "code",
   "execution_count": 1,
   "metadata": {
    "collapsed": false
   },
   "outputs": [],
   "source": [
    "%matplotlib inline\n",
    "import sys,os\n",
    "try:\n",
    "    import matk\n",
    "except:\n",
    "    try:\n",
    "        sys.path.append(os.path.join('..','src'))\n",
    "        import matk\n",
    "    except ImportError as err:\n",
    "        print 'Unable to load MATK module: '+str(err)\n",
    "import numpy\n",
    "from scipy import arange, randn, exp\n",
    "from multiprocessing import freeze_support\n",
    "\n",
    "# Model function\n",
    "def dbexpl(p):\n",
    "    t=arange(0,100,20.)\n",
    "    y =  (p['par1']*exp(-p['par2']*t) + p['par3']*exp(-p['par4']*t))\n",
    "    #nm =  ['o1','o2','o3','o4','o5']\n",
    "    #return dict(zip(nm,y))\n",
    "    return y\n",
    "\n",
    "# Setup MATK model with parameters\n",
    "p = matk.matk(model=dbexpl)\n",
    "p.add_par('par1',min=0,max=1)\n",
    "p.add_par('par2',min=0,max=0.2)\n",
    "p.add_par('par3',min=0,max=1)\n",
    "p.add_par('par4',min=0,max=0.2)\n"
   ]
  },
  {
   "cell_type": "code",
   "execution_count": 2,
   "metadata": {
    "collapsed": false
   },
   "outputs": [
    {
     "name": "stdout",
     "output_type": "stream",
     "text": [
      "[[ 0.   0.   0.   0. ]\n",
      " [ 0.   0.   0.   0.2]\n",
      " [ 0.   0.   1.   0. ]\n",
      " [ 0.   0.   1.   0.2]\n",
      " [ 0.   0.2  0.   0. ]\n",
      " [ 0.   0.2  0.   0.2]\n",
      " [ 0.   0.2  1.   0. ]\n",
      " [ 0.   0.2  1.   0.2]\n",
      " [ 1.   0.   0.   0. ]\n",
      " [ 1.   0.   0.   0.2]\n",
      " [ 1.   0.   1.   0. ]\n",
      " [ 1.   0.   1.   0.2]\n",
      " [ 1.   0.2  0.   0. ]\n",
      " [ 1.   0.2  0.   0.2]\n",
      " [ 1.   0.2  1.   0. ]\n",
      " [ 1.   0.2  1.   0.2]]\n"
     ]
    }
   ],
   "source": [
    "# Create LHS sample\n",
    "s = p.parstudy(nvals=[2,2,2,2])\n",
    "print s.samples.values"
   ]
  },
  {
   "cell_type": "code",
   "execution_count": 3,
   "metadata": {
    "collapsed": false
   },
   "outputs": [],
   "source": [
    "# Run model with parameter samples\n",
    "out = s.run( cpus=2, outfile='results.dat', logfile='log.dat',verbose=False)"
   ]
  },
  {
   "cell_type": "code",
   "execution_count": 4,
   "metadata": {
    "collapsed": true
   },
   "outputs": [],
   "source": [
    "# To imitate an incomlete sample run, we will delete some lines in log.dat\n",
    "with open('log.dat','r') as fh:\n",
    "    lns = fh.readlines()\n",
    "\n",
    "# Remove last 5 lines of file\n",
    "with open('log.dat','w') as fh:\n",
    "    for l in lns[0:-5]:\n",
    "        fh.write(l)    \n",
    "        \n",
    "# Remove results.dat so that it is generated from scratch\n",
    "os.remove('results.dat')"
   ]
  },
  {
   "cell_type": "code",
   "execution_count": 5,
   "metadata": {
    "collapsed": false
   },
   "outputs": [],
   "source": [
    "# Rerun using restart_logfile option so that only incomplete runs are executed\n",
    "# Change name of logfile so that results can be inspected \n",
    "out = s.run( cpus=2, outfile='results.dat', logfile='log2.dat',verbose=False,restart_logfile='log.dat')"
   ]
  },
  {
   "cell_type": "code",
   "execution_count": 6,
   "metadata": {
    "collapsed": true
   },
   "outputs": [],
   "source": [
    "# Now take a look at log.dat, log2.dat and results.dat\n",
    "# log.dat will be missing 5 samples\n",
    "# log2.dat will contain the 5 missing samples\n",
    "# results.dat will contain all samples in order"
   ]
  },
  {
   "cell_type": "code",
   "execution_count": 7,
   "metadata": {
    "collapsed": false
   },
   "outputs": [
    {
     "name": "stdout",
     "output_type": "stream",
     "text": [
      "[[ 0.   0.   0.   0. ]\n",
      " [ 0.   0.   0.   0.2]\n",
      " [ 0.   0.   1.   0. ]\n",
      " [ 0.   0.   1.   0.2]\n",
      " [ 0.   0.2  0.   0. ]\n",
      " [ 0.   0.2  0.   0.2]\n",
      " [ 0.   0.2  1.   0. ]\n",
      " [ 0.   0.2  1.   0.2]\n",
      " [ 1.   0.   0.   0. ]\n",
      " [ 1.   0.   0.   0.2]\n",
      " [ 1.   0.   1.   0. ]\n",
      " [ 1.   0.   1.   0.2]\n",
      " [ 1.   0.2  0.   0. ]\n",
      " [ 1.   0.2  0.   0.2]\n",
      " [ 1.   0.2  1.   0. ]\n",
      " [ 1.   0.2  1.   0.2]]\n"
     ]
    }
   ],
   "source": [
    "print s.samples.values"
   ]
  },
  {
   "cell_type": "code",
   "execution_count": 8,
   "metadata": {
    "collapsed": false
   },
   "outputs": [
    {
     "name": "stdout",
     "output_type": "stream",
     "text": [
      "[[  0.00000000e+00   0.00000000e+00   0.00000000e+00   0.00000000e+00\n",
      "    0.00000000e+00]\n",
      " [  0.00000000e+00   0.00000000e+00   0.00000000e+00   0.00000000e+00\n",
      "    0.00000000e+00]\n",
      " [  1.00000000e+00   1.00000000e+00   1.00000000e+00   1.00000000e+00\n",
      "    1.00000000e+00]\n",
      " [  1.00000000e+00   1.83156389e-02   3.35462628e-04   6.14421235e-06\n",
      "    1.12535175e-07]\n",
      " [  0.00000000e+00   0.00000000e+00   0.00000000e+00   0.00000000e+00\n",
      "    0.00000000e+00]\n",
      " [  0.00000000e+00   0.00000000e+00   0.00000000e+00   0.00000000e+00\n",
      "    0.00000000e+00]\n",
      " [  1.00000000e+00   1.00000000e+00   1.00000000e+00   1.00000000e+00\n",
      "    1.00000000e+00]\n",
      " [  1.00000000e+00   1.83156389e-02   3.35462628e-04   6.14421235e-06\n",
      "    1.12535175e-07]\n",
      " [  1.00000000e+00   1.00000000e+00   1.00000000e+00   1.00000000e+00\n",
      "    1.00000000e+00]\n",
      " [  1.00000000e+00   1.00000000e+00   1.00000000e+00   1.00000000e+00\n",
      "    1.00000000e+00]\n",
      " [  2.00000000e+00   2.00000000e+00   2.00000000e+00   2.00000000e+00\n",
      "    2.00000000e+00]\n",
      " [  2.00000000e+00   1.01831564e+00   1.00033546e+00   1.00000614e+00\n",
      "    1.00000011e+00]\n",
      " [  1.00000000e+00   1.83156389e-02   3.35462628e-04   6.14421235e-06\n",
      "    1.12535175e-07]\n",
      " [  1.00000000e+00   1.83156389e-02   3.35462628e-04   6.14421235e-06\n",
      "    1.12535175e-07]\n",
      " [  2.00000000e+00   1.01831564e+00   1.00033546e+00   1.00000614e+00\n",
      "    1.00000011e+00]\n",
      " [  2.00000000e+00   3.66312778e-02   6.70925256e-04   1.22884247e-05\n",
      "    2.25070349e-07]]\n"
     ]
    }
   ],
   "source": [
    "print s.responses.values"
   ]
  },
  {
   "cell_type": "code",
   "execution_count": null,
   "metadata": {
    "collapsed": true
   },
   "outputs": [],
   "source": []
  }
 ],
 "metadata": {
  "kernelspec": {
   "display_name": "Python 2",
   "language": "python",
   "name": "python2"
  },
  "language_info": {
   "codemirror_mode": {
    "name": "ipython",
    "version": 2
   },
   "file_extension": ".py",
   "mimetype": "text/x-python",
   "name": "python",
   "nbconvert_exporter": "python",
   "pygments_lexer": "ipython2",
   "version": "2.7.12"
  }
 },
 "nbformat": 4,
 "nbformat_minor": 0
}
