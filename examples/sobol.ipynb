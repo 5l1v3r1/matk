{
 "cells": [
  {
   "cell_type": "code",
   "execution_count": 1,
   "metadata": {},
   "outputs": [
    {
     "name": "stdout",
     "output_type": "stream",
     "text": [
      "Parameter S1 S1_conf ST ST_conf\n",
      "amp 0.434041 0.066804 0.669720 0.173768\n",
      "decay 0.261124 0.090263 0.461670 0.129540\n",
      "shift 0.011050 0.014759 0.047576 0.013243\n",
      "omega 0.011556 0.018900 0.073801 0.029723\n",
      "\n",
      "Parameter_1 Parameter_2 S2 S2_conf\n",
      "amp decay 0.164074 0.217512\n",
      "amp shift -0.023936 0.091280\n",
      "amp omega -0.009315 0.092907\n",
      "decay shift -0.012035 0.141097\n",
      "decay omega 0.009343 0.158747\n",
      "shift omega 0.035670 0.028652\n"
     ]
    }
   ],
   "source": [
    "import sys,os\n",
    "import matk\n",
    "import numpy as np\n",
    "from matplotlib import pyplot as plt\n",
    "\n",
    "# define a simple decaying sinusoidal function\n",
    "def sine_decay(params, x, data):\n",
    "    \"\"\" model decaying sine wave, subtract data\"\"\"\n",
    "    amp = params['amp']\n",
    "    shift = params['shift']\n",
    "    omega = params['omega']\n",
    "    decay = params['decay']\n",
    "\n",
    "    model = amp * np.sin(x * omega + shift) * np.exp(-x*x*decay)\n",
    "\n",
    "    obsnames = ['obs'+str(i) for i in range(1,len(data)+1)]\n",
    "    return dict(zip(obsnames,model))\n",
    "\n",
    "\n",
    "# create noisy data\n",
    "x = np.linspace(0, 15, 301)\n",
    "np.random.seed(1000)\n",
    "data = (5. * np.sin(2 * x - 0.1) * np.exp(-x*x*0.025) +\n",
    "        np.random.normal(size=len(x), scale=0.2) )\n",
    "\n",
    "# Create MATK object\n",
    "p = matk.matk(model=sine_decay, model_args=(x,data,))\n",
    "\n",
    "# Create parameters\n",
    "p.add_par('amp', value=10, min=0., max=20.)\n",
    "p.add_par('decay', value=0.1, min=0, max=0.2)\n",
    "p.add_par('shift', value=0.0, min=-np.pi/2., max=np.pi/2.)\n",
    "p.add_par('omega', value=3.0, min=0, max=6)\n",
    "\n",
    "# Create observation names and set observation values to noisy data\n",
    "for i in range(len(data)):\n",
    "    p.add_obs('obs'+str(i+1), value=data[i])\n",
    "    \n",
    "# Create Saltelli sample where the argument indicates the number of \n",
    "# samples per parameter. The actual number of samples will be N * (2*D + 2),\n",
    "# where N is the specified number of samples per parameter and D is the number\n",
    "# of parameters.\n",
    "# The default is True for \"calc_second_order\", explicitly specified here for clarity.\n",
    "ss1 = p.saltelli(1000, calc_second_order=True)\n",
    "\n",
    "# Execute the model on the Saltelli sample parameter combinations.\n",
    "ss1.run(verbose=False)\n",
    "\n",
    "# Perform the Sobol analysis\n",
    "SS = ss1.sobol(calc_second_order=True)\n"
   ]
  },
  {
   "cell_type": "code",
   "execution_count": 2,
   "metadata": {},
   "outputs": [
    {
     "name": "stdout",
     "output_type": "stream",
     "text": [
      "[ 0.43404054  0.26112364  0.01105031  0.01155562]\n"
     ]
    }
   ],
   "source": [
    "# Manually print some results\n",
    "print SS['S1']"
   ]
  },
  {
   "cell_type": "code",
   "execution_count": 3,
   "metadata": {},
   "outputs": [
    {
     "name": "stdout",
     "output_type": "stream",
     "text": [
      "[[        nan  0.16407351 -0.02393598 -0.00931453]\n",
      " [        nan         nan -0.01203482  0.00934286]\n",
      " [        nan         nan         nan  0.03567022]\n",
      " [        nan         nan         nan         nan]]\n"
     ]
    }
   ],
   "source": [
    "print SS['S2']"
   ]
  },
  {
   "cell_type": "markdown",
   "metadata": {},
   "source": [
    "The results indicate that the model is most sensitive to \"amp\" followed by \"decay\". The model is relatively insensitive to \"shift\" and \"omega\". Considering parameter interactions, the model is most sensitive to interactions between \"amp\" and \"decay\"."
   ]
  }
 ],
 "metadata": {
  "kernelspec": {
   "display_name": "Python 2",
   "language": "python",
   "name": "python2"
  },
  "language_info": {
   "codemirror_mode": {
    "name": "ipython",
    "version": 2
   },
   "file_extension": ".py",
   "mimetype": "text/x-python",
   "name": "python",
   "nbconvert_exporter": "python",
   "pygments_lexer": "ipython2",
   "version": "2.7.13"
  }
 },
 "nbformat": 4,
 "nbformat_minor": 2
}
