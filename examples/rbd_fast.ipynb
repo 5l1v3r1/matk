{
 "cells": [
  {
   "cell_type": "code",
   "execution_count": 2,
   "metadata": {},
   "outputs": [
    {
     "name": "stdout",
     "output_type": "stream",
     "text": [
      "Parameter First\n",
      "amp       0.416543\n",
      "decay     0.289382\n",
      "shift     0.0286196\n",
      "omega     0.0386413\n"
     ]
    }
   ],
   "source": [
    "import sys,os\n",
    "import matk\n",
    "import numpy as np\n",
    "from matplotlib import pyplot as plt\n",
    "\n",
    "# define a simple decaying sinusoidal function\n",
    "def sine_decay(params, x, data):\n",
    "    \"\"\" model decaying sine wave, subtract data\"\"\"\n",
    "    amp = params['amp']\n",
    "    shift = params['shift']\n",
    "    omega = params['omega']\n",
    "    decay = params['decay']\n",
    "\n",
    "    model = amp * np.sin(x * omega + shift) * np.exp(-x*x*decay)\n",
    "\n",
    "    obsnames = ['obs'+str(i) for i in range(1,len(data)+1)]\n",
    "    return dict(zip(obsnames,model))\n",
    "\n",
    "\n",
    "# create noisy data\n",
    "x = np.linspace(0, 15, 301)\n",
    "np.random.seed(1000)\n",
    "data = (5. * np.sin(2 * x - 0.1) * np.exp(-x*x*0.025) +\n",
    "        np.random.normal(size=len(x), scale=0.2) )\n",
    "\n",
    "# Create MATK object\n",
    "p = matk.matk(model=sine_decay, model_args=(x,data,))\n",
    "\n",
    "# Create parameters\n",
    "p.add_par('amp', value=10, min=0., max=20.)\n",
    "p.add_par('decay', value=0.1, min=0, max=0.2)\n",
    "p.add_par('shift', value=0.0, min=-np.pi/2., max=np.pi/2.)\n",
    "p.add_par('omega', value=3.0, min=0, max=6)\n",
    "\n",
    "# Create observation names and set observation values to noisy data\n",
    "for i in range(len(data)):\n",
    "    p.add_obs('obs'+str(i+1), value=data[i])\n",
    "\n",
    "# Create LHS sample\n",
    "ss1 = p.lhs(siz=1000)\n",
    "\n",
    "# Execute the model on the LHS sample parameter combinations.\n",
    "ss1.run(verbose=False)\n",
    "\n",
    "# Perform the RBD_FAST analysis\n",
    "SS = ss1.rbd_fast()"
   ]
  },
  {
   "cell_type": "code",
   "execution_count": 3,
   "metadata": {},
   "outputs": [
    {
     "name": "stdout",
     "output_type": "stream",
     "text": [
      "[0.41654295222954379, 0.28938223959466058, 0.028619627269347119, 0.03864126571374104]\n"
     ]
    }
   ],
   "source": [
    "# Manually print some results\n",
    "print SS['S1']"
   ]
  }
 ],
 "metadata": {
  "kernelspec": {
   "display_name": "Python 2",
   "language": "python",
   "name": "python2"
  },
  "language_info": {
   "codemirror_mode": {
    "name": "ipython",
    "version": 2
   },
   "file_extension": ".py",
   "mimetype": "text/x-python",
   "name": "python",
   "nbconvert_exporter": "python",
   "pygments_lexer": "ipython2",
   "version": "2.7.14"
  }
 },
 "nbformat": 4,
 "nbformat_minor": 2
}
