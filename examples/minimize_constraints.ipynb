{
 "cells": [
  {
   "cell_type": "code",
   "execution_count": 2,
   "metadata": {
    "collapsed": false
   },
   "outputs": [
    {
     "name": "stdout",
     "output_type": "stream",
     "text": [
      "x1 should be 1.4:  1.40003257869\n",
      "x2 should be 1.7:  1.70001628935\n"
     ]
    }
   ],
   "source": [
    "from matk import matk\n",
    "\n",
    "# Create function\n",
    "def fun(pars):\n",
    "    o = (pars['x1'] - 1)**2 + (pars['x2'] - 2.5)**2\n",
    "    return -o\n",
    "\n",
    "# Set inequality constraints\n",
    "cons = ({'type': 'ineq', 'fun': lambda x:  x[0] - 2 * x[1] + 2},\n",
    "    {'type': 'ineq', 'fun': lambda x: -x[0] - 2 * x[1] + 6},\n",
    "    {'type': 'ineq', 'fun': lambda x: -x[0] + 2 * x[1] + 2})\n",
    "\n",
    "p = matk(model=fun)\n",
    "\n",
    "p.add_par('x1',min=0,value=2)\n",
    "p.add_par('x2',min=0,value=0)\n",
    "p.add_obs('obs1',value=0)\n",
    "r = p.minimize(constraints=cons)\n",
    "\n",
    "\n",
    "print \"x1 should be 1.4: \", r['x'][0]\n",
    "print \"x2 should be 1.7: \", r['x'][1]\n",
    "\n"
   ]
  },
  {
   "cell_type": "code",
   "execution_count": null,
   "metadata": {
    "collapsed": true
   },
   "outputs": [],
   "source": []
  }
 ],
 "metadata": {
  "kernelspec": {
   "display_name": "Python 2",
   "language": "python",
   "name": "python2"
  },
  "language_info": {
   "codemirror_mode": {
    "name": "ipython",
    "version": 2
   },
   "file_extension": ".py",
   "mimetype": "text/x-python",
   "name": "python",
   "nbconvert_exporter": "python",
   "pygments_lexer": "ipython2",
   "version": "2.7.12"
  }
 },
 "nbformat": 4,
 "nbformat_minor": 0
}
